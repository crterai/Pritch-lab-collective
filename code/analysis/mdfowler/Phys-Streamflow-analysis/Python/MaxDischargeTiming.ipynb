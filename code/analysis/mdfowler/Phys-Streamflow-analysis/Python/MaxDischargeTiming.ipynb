{
 "cells": [
  {
   "cell_type": "code",
   "execution_count": 1,
   "metadata": {},
   "outputs": [],
   "source": [
    "import scipy as scipy\n",
    "import numpy as np\n",
    "import scipy.io as sio\n",
    "import matplotlib.pyplot as plt \n",
    "\n",
    "from scipy.stats import genextreme as gev\n",
    "from netCDF4 import Dataset\n"
   ]
  },
  {
   "cell_type": "markdown",
   "metadata": {},
   "source": [
    "# Read in data"
   ]
  },
  {
   "cell_type": "code",
   "execution_count": 4,
   "metadata": {},
   "outputs": [],
   "source": [
    "matData   = sio.loadmat('/Users/meganfowler/Documents/MATLAB/FloodProject/CaMaFlood/Physiology/30yr/MaxOutflwTiming.mat')\n",
    "maxYearly = matData['dayMax']\n",
    "\n",
    "ctrlMaxDay = maxYearly[0,:,:,:]   #Saves as np.ndarray \n",
    "fullMaxDay = maxYearly[1,:,:,:]\n",
    "radMaxDay  = maxYearly[2,:,:,:]\n",
    "physMaxDay = maxYearly[3,:,:,:]"
   ]
  },
  {
   "cell_type": "code",
   "execution_count": 8,
   "metadata": {},
   "outputs": [],
   "source": [
    "maskData  = sio.loadmat('/Users/meganfowler/Documents/MATLAB/FloodProject/CaMaFlood/Physiology/30yr/FloodDriverMask-Significant_CaMaRes.mat')\n",
    "mask      = maskData['maskRaw']\n"
   ]
  },
  {
   "cell_type": "code",
   "execution_count": 9,
   "metadata": {},
   "outputs": [],
   "source": [
    "CaMaFile = Dataset('/Users/meganfowler/gp_fuse/Flooding-physiology/MatlabData/fldare1161.nc')\n",
    "# print(CaMaFile.dimensions.keys())\n",
    "\n",
    "lat = CaMaFile.variables['lat'][:] \n",
    "lon = CaMaFile.variables['lon'][:] "
   ]
  },
  {
   "cell_type": "markdown",
   "metadata": {},
   "source": [
    "# Apply mask"
   ]
  },
  {
   "cell_type": "code",
   "execution_count": 11,
   "metadata": {},
   "outputs": [],
   "source": [
    "# Find where mask is in desired classification \n",
    "cls = 1; 5#Classification - set to 1 for BOTH, 2 for PHYS, and 3 for RAD \n",
    "ind = np.where(mask==cls)\n",
    "\n",
    "#Expand mask to include 30 years \n",
    "maskDriver = np.full([len(lon),len(lat)],np.nan)\n",
    "maskExpand = np.full([len(lon),len(lat),30],np.nan)\n",
    "\n",
    "maskDriver[ind] = 1\n",
    "\n",
    "for t in range(30):\n",
    "    maskExpand[:,:,t] = maskDriver[:,:]\n",
    "    \n",
    "# maskDriver.__class__"
   ]
  },
  {
   "cell_type": "code",
   "execution_count": 36,
   "metadata": {},
   "outputs": [],
   "source": [
    "#Apply mask\n",
    "ctrlMaxDay_masked = ctrlMaxDay*maskExpand  #Multiplication is element-wise for numpy arrays  \n",
    "fullMaxDay_masked = fullMaxDay*maskExpand\n",
    "radMaxDay_masked  = radMaxDay*maskExpand\n",
    "physMaxDay_masked = physMaxDay*maskExpand\n"
   ]
  },
  {
   "cell_type": "markdown",
   "metadata": {},
   "source": [
    "# Define and separate regions"
   ]
  },
  {
   "cell_type": "code",
   "execution_count": 41,
   "metadata": {},
   "outputs": [
    {
     "ename": "IndexError",
     "evalue": "shape mismatch: indexing arrays could not be broadcast together with shapes (68,) (48,) ",
     "output_type": "error",
     "traceback": [
      "\u001b[0;31m---------------------------------------------------------------------------\u001b[0m",
      "\u001b[0;31mIndexError\u001b[0m                                Traceback (most recent call last)",
      "\u001b[0;32m<ipython-input-41-436c6aff5994>\u001b[0m in \u001b[0;36m<module>\u001b[0;34m()\u001b[0m\n\u001b[1;32m      2\u001b[0m \u001b[0mlonUS\u001b[0m  \u001b[0;34m=\u001b[0m \u001b[0mnp\u001b[0m\u001b[0;34m.\u001b[0m\u001b[0msqueeze\u001b[0m\u001b[0;34m(\u001b[0m\u001b[0mnp\u001b[0m\u001b[0;34m.\u001b[0m\u001b[0mwhere\u001b[0m\u001b[0;34m(\u001b[0m\u001b[0;34m(\u001b[0m\u001b[0mlon\u001b[0m \u001b[0;34m>=\u001b[0m \u001b[0;34m-\u001b[0m\u001b[0;36m99\u001b[0m\u001b[0;34m)\u001b[0m \u001b[0;34m&\u001b[0m \u001b[0;34m(\u001b[0m\u001b[0mlon\u001b[0m \u001b[0;34m<=\u001b[0m \u001b[0;34m-\u001b[0m\u001b[0;36m82\u001b[0m\u001b[0;34m)\u001b[0m\u001b[0;34m)\u001b[0m\u001b[0;34m)\u001b[0m\u001b[0;34m\u001b[0m\u001b[0m\n\u001b[1;32m      3\u001b[0m \u001b[0mlatUS\u001b[0m  \u001b[0;34m=\u001b[0m \u001b[0mnp\u001b[0m\u001b[0;34m.\u001b[0m\u001b[0msqueeze\u001b[0m\u001b[0;34m(\u001b[0m\u001b[0mnp\u001b[0m\u001b[0;34m.\u001b[0m\u001b[0mwhere\u001b[0m\u001b[0;34m(\u001b[0m\u001b[0;34m(\u001b[0m\u001b[0mlat\u001b[0m \u001b[0;34m>=\u001b[0m \u001b[0;36m27\u001b[0m\u001b[0;34m)\u001b[0m \u001b[0;34m&\u001b[0m \u001b[0;34m(\u001b[0m\u001b[0mlat\u001b[0m \u001b[0;34m<=\u001b[0m \u001b[0;36m39\u001b[0m\u001b[0;34m)\u001b[0m\u001b[0;34m)\u001b[0m\u001b[0;34m)\u001b[0m\u001b[0;34m\u001b[0m\u001b[0m\n\u001b[0;32m----> 4\u001b[0;31m \u001b[0mctrlUS\u001b[0m \u001b[0;34m=\u001b[0m \u001b[0mctrlMaxDay_masked\u001b[0m\u001b[0;34m[\u001b[0m\u001b[0mlonUS\u001b[0m\u001b[0;34m,\u001b[0m\u001b[0mlatUS\u001b[0m\u001b[0;34m,\u001b[0m\u001b[0;34m:\u001b[0m\u001b[0;34m]\u001b[0m\u001b[0;34m\u001b[0m\u001b[0m\n\u001b[0m\u001b[1;32m      5\u001b[0m \u001b[0mfullUS\u001b[0m \u001b[0;34m=\u001b[0m \u001b[0mfullMaxDay_masked\u001b[0m\u001b[0;34m[\u001b[0m\u001b[0mlonUS\u001b[0m\u001b[0;34m,\u001b[0m\u001b[0mlatUS\u001b[0m\u001b[0;34m,\u001b[0m\u001b[0;34m:\u001b[0m\u001b[0;34m]\u001b[0m\u001b[0;34m\u001b[0m\u001b[0m\n\u001b[1;32m      6\u001b[0m \u001b[0mradUS\u001b[0m  \u001b[0;34m=\u001b[0m \u001b[0mradMaxDay_masked\u001b[0m\u001b[0;34m[\u001b[0m\u001b[0mlonUS\u001b[0m\u001b[0;34m,\u001b[0m\u001b[0mlatUS\u001b[0m\u001b[0;34m,\u001b[0m\u001b[0;34m:\u001b[0m\u001b[0;34m]\u001b[0m\u001b[0;34m\u001b[0m\u001b[0m\n",
      "\u001b[0;31mIndexError\u001b[0m: shape mismatch: indexing arrays could not be broadcast together with shapes (68,) (48,) "
     ]
    }
   ],
   "source": [
    "# Combination-driven regions\n",
    "lonUS  = np.squeeze(np.where((lon >= -99) & (lon <= -82)))\n",
    "latUS  = np.squeeze(np.where((lat >= 27) & (lat <= 39)))\n",
    "ctrlUS = ctrlMaxDay_masked[lonUS,latUS,:]\n",
    "fullUS = fullMaxDay_masked[lonUS,latUS,:]\n",
    "radUS  = radMaxDay_masked[lonUS,latUS,:]\n",
    "physUS = physMaxDay_masked[lonUS,latUS,:]\n",
    "\n",
    "lonChina  = np.where((lon >= 109) & (lon <= 129))\n",
    "latChina  = np.where((lat >= 32) & (lat <= 53))\n",
    "ctrlChina = ctrlMaxDay_masked[lonChina,latChina,:]\n",
    "fullChina = fullMaxDay_masked[lonChina,latChina,:]\n",
    "radChina  = radMaxDay_masked[lonChina,latChina,:]\n",
    "physChina = physMaxDay_masked[lonChina,latChina,:]\n",
    "\n",
    "lonSEasia  = np.where((lon >= 95) & (lon <= 111))\n",
    "latSEasia  = np.where((lat >= 13) & (lat <= 26))\n",
    "ctrlSEasia = ctrlMaxDay_masked[lonSEasia,latSEasia,:]\n",
    "fullSEasia = fullMaxDay_masked[lonSEasia,latSEasia,:]\n",
    "radSEasia  = radMaxDay_masked[lonSEasia,latSEasia,:]\n",
    "physSEasia = physMaxDay_masked[lonSEasia,latSEasia,:]\n",
    "\n",
    "lonAfr  = np.where((lon >= 10) & (lon <= 33));\n",
    "latAfr  = np.where((lat >= -15) & (lat<=-4));\n",
    "ctrlAfr = ctrlMaxDay_masked[lonAfr,latAfr,:]\n",
    "fullAfr = fullMaxDay_masked[lonAfr,latAfr,:]\n",
    "radAfr  = radMaxDay_masked[lonAfr,latAfr,:]\n",
    "physAfr = physMaxDay_masked[lonAfr,latAfr,:]\n",
    "\n",
    "lonAus  = np.where((lon >= 136) & (lon <= 148)); \n",
    "latAus  = np.where((lat >= -33) & (lat <= -15)); \n",
    "ctrlAus = ctrlMaxDay_masked[lonAus,latAus,:]\n",
    "fullAus = fullMaxDay_masked[lonAus,latAus,:]\n",
    "radAus  = radMaxDay_masked[lonAus,latAus,:]\n",
    "physAus = physMaxDay_masked[lonAus,latAus,:]\n",
    "\n",
    "### ABANDONING ALL HOPE HERE AND MOVING BACK TO MATLAB FOR NOW ### "
   ]
  },
  {
   "cell_type": "code",
   "execution_count": 34,
   "metadata": {},
   "outputs": [
    {
     "name": "stdout",
     "output_type": "stream",
     "text": [
      "[-98.875 -98.625 -98.375 -98.125 -97.875 -97.625 -97.375 -97.125 -96.875\n",
      " -96.625 -96.375 -96.125 -95.875 -95.625 -95.375 -95.125 -94.875 -94.625\n",
      " -94.375 -94.125 -93.875 -93.625 -93.375 -93.125 -92.875 -92.625 -92.375\n",
      " -92.125 -91.875 -91.625 -91.375 -91.125 -90.875 -90.625 -90.375 -90.125\n",
      " -89.875 -89.625 -89.375 -89.125 -88.875 -88.625 -88.375 -88.125 -87.875\n",
      " -87.625 -87.375 -87.125 -86.875 -86.625 -86.375 -86.125 -85.875 -85.625\n",
      " -85.375 -85.125 -84.875 -84.625 -84.375 -84.125 -83.875 -83.625 -83.375\n",
      " -83.125 -82.875 -82.625 -82.375 -82.125]\n"
     ]
    }
   ],
   "source": [
    "# Choose how many bins you want here\n",
    "num_bins = 20\n",
    "\n",
    "# Use the histogram function to bin the data\n",
    "counts, bin_edges = np.histogram(data, bins=num_bins, normed=True)\n",
    "\n",
    "# Now find the cdf\n",
    "cdf = np.cumsum(counts)\n",
    "\n",
    "# And finally plot the cdf\n",
    "plt.plot(bin_edges[1:], cdf)\n",
    "\n",
    "plt.show()"
   ]
  },
  {
   "cell_type": "code",
   "execution_count": 45,
   "metadata": {},
   "outputs": [
    {
     "name": "stdout",
     "output_type": "stream",
     "text": [
      "(720,)\n"
     ]
    }
   ],
   "source": [
    "print(np.shape(lat))"
   ]
  },
  {
   "cell_type": "code",
   "execution_count": 42,
   "metadata": {},
   "outputs": [
    {
     "ename": "IndexError",
     "evalue": "shape mismatch: indexing arrays could not be broadcast together with shapes (68,) (48,) ",
     "output_type": "error",
     "traceback": [
      "\u001b[0;31m---------------------------------------------------------------------------\u001b[0m",
      "\u001b[0;31mIndexError\u001b[0m                                Traceback (most recent call last)",
      "\u001b[0;32m<ipython-input-42-ba511895e080>\u001b[0m in \u001b[0;36m<module>\u001b[0;34m()\u001b[0m\n\u001b[1;32m      1\u001b[0m \u001b[0mlonUS\u001b[0m  \u001b[0;34m=\u001b[0m \u001b[0mnp\u001b[0m\u001b[0;34m.\u001b[0m\u001b[0msqueeze\u001b[0m\u001b[0;34m(\u001b[0m\u001b[0mnp\u001b[0m\u001b[0;34m.\u001b[0m\u001b[0mwhere\u001b[0m\u001b[0;34m(\u001b[0m\u001b[0;34m(\u001b[0m\u001b[0mlon\u001b[0m \u001b[0;34m>=\u001b[0m \u001b[0;34m-\u001b[0m\u001b[0;36m99\u001b[0m\u001b[0;34m)\u001b[0m \u001b[0;34m&\u001b[0m \u001b[0;34m(\u001b[0m\u001b[0mlon\u001b[0m \u001b[0;34m<=\u001b[0m \u001b[0;34m-\u001b[0m\u001b[0;36m82\u001b[0m\u001b[0;34m)\u001b[0m\u001b[0;34m)\u001b[0m\u001b[0;34m)\u001b[0m\u001b[0;34m\u001b[0m\u001b[0m\n\u001b[1;32m      2\u001b[0m \u001b[0mlatUS\u001b[0m  \u001b[0;34m=\u001b[0m \u001b[0mnp\u001b[0m\u001b[0;34m.\u001b[0m\u001b[0msqueeze\u001b[0m\u001b[0;34m(\u001b[0m\u001b[0mnp\u001b[0m\u001b[0;34m.\u001b[0m\u001b[0mwhere\u001b[0m\u001b[0;34m(\u001b[0m\u001b[0;34m(\u001b[0m\u001b[0mlat\u001b[0m \u001b[0;34m>=\u001b[0m \u001b[0;36m27\u001b[0m\u001b[0;34m)\u001b[0m \u001b[0;34m&\u001b[0m \u001b[0;34m(\u001b[0m\u001b[0mlat\u001b[0m \u001b[0;34m<=\u001b[0m \u001b[0;36m39\u001b[0m\u001b[0;34m)\u001b[0m\u001b[0;34m)\u001b[0m\u001b[0;34m)\u001b[0m\u001b[0;34m\u001b[0m\u001b[0m\n\u001b[0;32m----> 3\u001b[0;31m \u001b[0mctrlUS\u001b[0m \u001b[0;34m=\u001b[0m \u001b[0mctrlMaxDay_masked\u001b[0m\u001b[0;34m[\u001b[0m\u001b[0mlonUS\u001b[0m\u001b[0;34m,\u001b[0m\u001b[0mlatUS\u001b[0m\u001b[0;34m,\u001b[0m\u001b[0;34m:\u001b[0m\u001b[0;34m]\u001b[0m\u001b[0;34m\u001b[0m\u001b[0m\n\u001b[0m",
      "\u001b[0;31mIndexError\u001b[0m: shape mismatch: indexing arrays could not be broadcast together with shapes (68,) (48,) "
     ]
    }
   ],
   "source": [
    "lonUS  = np.squeeze(np.where((lon >= -99) & (lon <= -82)))\n",
    "latUS  = np.squeeze(np.where((lat >= 27) & (lat <= 39)))\n",
    "ctrlUS = ctrlMaxDay_masked[lonUS,latUS,:]"
   ]
  },
  {
   "cell_type": "code",
   "execution_count": null,
   "metadata": {},
   "outputs": [],
   "source": []
  }
 ],
 "metadata": {
  "kernelspec": {
   "display_name": "Python 3",
   "language": "python",
   "name": "python3"
  },
  "language_info": {
   "codemirror_mode": {
    "name": "ipython",
    "version": 3
   },
   "file_extension": ".py",
   "mimetype": "text/x-python",
   "name": "python",
   "nbconvert_exporter": "python",
   "pygments_lexer": "ipython3",
   "version": "3.6.4"
  }
 },
 "nbformat": 4,
 "nbformat_minor": 2
}
