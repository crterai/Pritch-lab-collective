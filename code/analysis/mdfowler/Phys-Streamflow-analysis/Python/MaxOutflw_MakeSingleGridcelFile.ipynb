{
 "cells": [
  {
   "cell_type": "code",
   "execution_count": 1,
   "metadata": {},
   "outputs": [],
   "source": [
    "import scipy as scipy\n",
    "import numpy as np\n",
    "import scipy.io as sio\n",
    "import matplotlib.pyplot as plt \n",
    "\n",
    "from scipy.stats import genextreme as gev\n",
    "from netCDF4 import Dataset\n",
    "\n"
   ]
  },
  {
   "cell_type": "code",
   "execution_count": 2,
   "metadata": {},
   "outputs": [],
   "source": [
    "CaMaFile = Dataset('/Users/meganfowler/gp_fuse/Flooding-physiology/MatlabData/fldare1161.nc')\n",
    "# print(CaMaFile.dimensions.keys())\n",
    "\n",
    "lat =  CaMaFile.variables['lat'][:] \n",
    "lon = CaMaFile.variables['lon'][:] "
   ]
  },
  {
   "cell_type": "code",
   "execution_count": null,
   "metadata": {},
   "outputs": [],
   "source": [
    "#matData   = sio.loadmat('/Users/meganfowler/Documents/MATLAB/FloodProject/CaMaFlood/Physiology/30yr/control_outflw.mat')\n",
    "\n",
    "matData   = sio.loadmat('/Users/meganfowler/gp_fuse/Flooding-physiology/MatlabData/control_outflw.mat')\n",
    "maxYearly = matData['maxYearly_full']\n",
    "\n",
    "fullData   = sio.loadmat('/Users/meganfowler/gp_fuse/Flooding-physiology/MatlabData/full_outflw.mat')\n",
    "fullYearly = fullData['maxYearly_full']\n",
    "\n",
    "physData = sio.loadmat('/Users/meganfowler/gp_fuse/Flooding-physiology/MatlabData/physiology_outflw.mat')\n",
    "physYearly = physData['maxYearly_full']\n",
    "\n",
    "radData = sio.loadmat('/Users/meganfowler/gp_fuse/Flooding-physiology/MatlabData/radiation_outflw.mat')\n",
    "radYearly = radData['maxYearly_full']"
   ]
  },
  {
   "cell_type": "code",
   "execution_count": null,
   "metadata": {},
   "outputs": [],
   "source": [
    "for i in range(len(lon)):\n",
    "    for j in range(len(lat)):\n",
    "        rec = maxYearly(i,j,:)\n",
    "        recFull = fullYearly(i,j,:)\n",
    "        recPhys = physYearly(i,j,:)\n",
    "        recRad  = radYearly(i,j,:)\n",
    "        \n",
    "        fileName = '/Volumes/MyPassport/Data/Flooding/Physiology/PythonData/maxYearly_lonIndex'+str(i)+'_latIndex'+str(j)+'.pkl'\n",
    "        f_myFile = open(fileName,'wb')\n",
    "        pickle.dump([rec,recFull,recPhys,recRad,i,j], f_myFile)\n",
    "        f_myFile.close()\n",
    "\n",
    "        \n",
    "        "
   ]
  },
  {
   "cell_type": "code",
   "execution_count": null,
   "metadata": {},
   "outputs": [],
   "source": []
  }
 ],
 "metadata": {
  "kernelspec": {
   "display_name": "Python 3",
   "language": "python",
   "name": "python3"
  },
  "language_info": {
   "codemirror_mode": {
    "name": "ipython",
    "version": 3
   },
   "file_extension": ".py",
   "mimetype": "text/x-python",
   "name": "python",
   "nbconvert_exporter": "python",
   "pygments_lexer": "ipython3",
   "version": "3.6.4"
  }
 },
 "nbformat": 4,
 "nbformat_minor": 2
}
